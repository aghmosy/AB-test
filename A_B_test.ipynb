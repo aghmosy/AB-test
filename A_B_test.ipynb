{
  "nbformat": 4,
  "nbformat_minor": 0,
  "metadata": {
    "colab": {
      "name": "A_B_test_completed.ipynb",
      "provenance": [],
      "collapsed_sections": []
    },
    "kernelspec": {
      "name": "python3",
      "display_name": "Python 3"
    },
    "language_info": {
      "name": "python"
    }
  },
  "cells": [
    {
      "cell_type": "code",
      "metadata": {
        "id": "H16fdLmOuazf"
      },
      "source": [
        "import numpy as np\n",
        "import pandas as pd\n",
        "import matplotlib.pyplot as plt\n",
        "% matplotlib inline\n",
        "\n",
        "np.random.seed(42)"
      ],
      "execution_count": null,
      "outputs": []
    },
    {
      "cell_type": "code",
      "metadata": {
        "colab": {
          "base_uri": "https://localhost:8080/",
          "height": 206
        },
        "id": "hq4OLUWfueKw",
        "outputId": "eb024044-743d-47e9-8fd7-2948e818e73b"
      },
      "source": [
        "df = pd.read_csv(\"classroom_actions.csv\")\n",
        "df.head()"
      ],
      "execution_count": null,
      "outputs": [
        {
          "output_type": "execute_result",
          "data": {
            "text/html": [
              "<div>\n",
              "<style scoped>\n",
              "    .dataframe tbody tr th:only-of-type {\n",
              "        vertical-align: middle;\n",
              "    }\n",
              "\n",
              "    .dataframe tbody tr th {\n",
              "        vertical-align: top;\n",
              "    }\n",
              "\n",
              "    .dataframe thead th {\n",
              "        text-align: right;\n",
              "    }\n",
              "</style>\n",
              "<table border=\"1\" class=\"dataframe\">\n",
              "  <thead>\n",
              "    <tr style=\"text-align: right;\">\n",
              "      <th></th>\n",
              "      <th>timestamp</th>\n",
              "      <th>id</th>\n",
              "      <th>group</th>\n",
              "      <th>total_days</th>\n",
              "      <th>completed</th>\n",
              "    </tr>\n",
              "  </thead>\n",
              "  <tbody>\n",
              "    <tr>\n",
              "      <th>0</th>\n",
              "      <td>2015-08-10 17:06:01.032740</td>\n",
              "      <td>610019</td>\n",
              "      <td>experiment</td>\n",
              "      <td>97</td>\n",
              "      <td>True</td>\n",
              "    </tr>\n",
              "    <tr>\n",
              "      <th>1</th>\n",
              "      <td>2015-08-10 17:15:28.950975</td>\n",
              "      <td>690224</td>\n",
              "      <td>control</td>\n",
              "      <td>75</td>\n",
              "      <td>False</td>\n",
              "    </tr>\n",
              "    <tr>\n",
              "      <th>2</th>\n",
              "      <td>2015-08-10 17:34:40.920384</td>\n",
              "      <td>564994</td>\n",
              "      <td>experiment</td>\n",
              "      <td>128</td>\n",
              "      <td>True</td>\n",
              "    </tr>\n",
              "    <tr>\n",
              "      <th>3</th>\n",
              "      <td>2015-08-10 17:50:39.847374</td>\n",
              "      <td>849588</td>\n",
              "      <td>experiment</td>\n",
              "      <td>66</td>\n",
              "      <td>False</td>\n",
              "    </tr>\n",
              "    <tr>\n",
              "      <th>4</th>\n",
              "      <td>2015-08-10 19:10:40.650599</td>\n",
              "      <td>849826</td>\n",
              "      <td>experiment</td>\n",
              "      <td>34</td>\n",
              "      <td>False</td>\n",
              "    </tr>\n",
              "  </tbody>\n",
              "</table>\n",
              "</div>"
            ],
            "text/plain": [
              "                    timestamp      id       group  total_days  completed\n",
              "0  2015-08-10 17:06:01.032740  610019  experiment          97       True\n",
              "1  2015-08-10 17:15:28.950975  690224     control          75      False\n",
              "2  2015-08-10 17:34:40.920384  564994  experiment         128       True\n",
              "3  2015-08-10 17:50:39.847374  849588  experiment          66      False\n",
              "4  2015-08-10 19:10:40.650599  849826  experiment          34      False"
            ]
          },
          "metadata": {},
          "execution_count": 2
        }
      ]
    },
    {
      "cell_type": "code",
      "metadata": {
        "colab": {
          "base_uri": "https://localhost:8080/"
        },
        "id": "8jtLf8Kiuj8A",
        "outputId": "a31aaa96-dacb-4f34-d093-69283e40c84f"
      },
      "source": [
        "# Create dataframe with all control records\n",
        "control_df = df.query('group == \"control\"')\n",
        "\n",
        "# Compute completion rate\n",
        "control_cr = control_df.completed.sum()/control_df.shape[0]\n",
        "\n",
        "# Display completion rate\n",
        "control_cr"
      ],
      "execution_count": null,
      "outputs": [
        {
          "output_type": "execute_result",
          "data": {
            "text/plain": [
              "0.3719951923076923"
            ]
          },
          "metadata": {},
          "execution_count": 19
        }
      ]
    },
    {
      "cell_type": "code",
      "metadata": {
        "colab": {
          "base_uri": "https://localhost:8080/"
        },
        "id": "Bb750NybvENv",
        "outputId": "c88de217-aeae-4a5c-9163-1a39c50d3cf5"
      },
      "source": [
        "# Create dataframe with all experiment records\n",
        "experiment_df = df.query('group == \"experiment\"')\n",
        "\n",
        "# Compute completion rate\n",
        "experiment_cr = experiment_df.completed.sum()/experiment_df.shape[0]\n",
        "\n",
        "# Display completion rate\n",
        "experiment_cr"
      ],
      "execution_count": null,
      "outputs": [
        {
          "output_type": "execute_result",
          "data": {
            "text/plain": [
              "0.3935334872979215"
            ]
          },
          "metadata": {},
          "execution_count": 18
        }
      ]
    },
    {
      "cell_type": "code",
      "metadata": {
        "colab": {
          "base_uri": "https://localhost:8080/"
        },
        "id": "2tHk7APcvR3d",
        "outputId": "34da42bc-2dca-46db-a418-84578b25313e"
      },
      "source": [
        "# Compute observed difference in completion rates\n",
        "obs_diff = experiment_cr - control_cr\n",
        "\n",
        "# Display observed difference in completion rates\n",
        "obs_diff"
      ],
      "execution_count": null,
      "outputs": [
        {
          "output_type": "execute_result",
          "data": {
            "text/plain": [
              "0.02153829499022919"
            ]
          },
          "metadata": {},
          "execution_count": 21
        }
      ]
    },
    {
      "cell_type": "code",
      "metadata": {
        "id": "ZeoXwja5vn5t"
      },
      "source": [
        "# Create sampling distribution for difference in completion rates\n",
        "# with boostrapping\n",
        "diffs = []\n",
        "for _ in range(10000):\n",
        "  b_sample = df.sample(df.shape[0], replace=True)\n",
        "  control_mean = b_sample.query('group == \"control\"')\n",
        "  experiment_mean = b_sample.query('group == \"experiment\"')\n",
        "  control_mean = control_mean.completed.sum()/control_mean.shape[0]\n",
        "  experiment_mean = experiment_mean.completed.sum() / experiment_mean.shape[0]\n",
        "  diffs.append(experiment_mean - control_mean)"
      ],
      "execution_count": null,
      "outputs": []
    },
    {
      "cell_type": "code",
      "metadata": {
        "id": "xehaGmR8wPIo"
      },
      "source": [
        "# convert to numpy array\n",
        "diffs = np.array(diffs)"
      ],
      "execution_count": null,
      "outputs": []
    },
    {
      "cell_type": "code",
      "metadata": {
        "colab": {
          "base_uri": "https://localhost:8080/",
          "height": 265
        },
        "id": "jD-0qQCDwRPc",
        "outputId": "edde90a7-1f6e-420c-9fb9-cdf1e38f40e8"
      },
      "source": [
        "plt.hist(diffs);"
      ],
      "execution_count": null,
      "outputs": [
        {
          "output_type": "display_data",
          "data": {
            "image/png": "[encoded data removed]",
            "text/plain": [
              "<Figure size 432x288 with 1 Axes>"
            ]
          },
          "metadata": {
            "needs_background": "light"
          }
        }
      ]
    },
    {
      "cell_type": "code",
      "metadata": {
        "id": "f6DzO-mOwUiU"
      },
      "source": [
        "# create distribution under the null hypothesis\n",
        "null_vals = np.random.normal(0, diffs.std(), diffs.shape[0])"
      ],
      "execution_count": null,
      "outputs": []
    },
    {
      "cell_type": "code",
      "metadata": {
        "colab": {
          "base_uri": "https://localhost:8080/",
          "height": 265
        },
        "id": "rXki_6O8wuNV",
        "outputId": "a1260807-511c-4b0a-b3f4-0b06ca0dc932"
      },
      "source": [
        "# plot null distribution\n",
        "plt.hist(null_vals);\n",
        "\n",
        "# plot line for observed statistic\n",
        "plt.axvline(obs_diff, color = 'red');"
      ],
      "execution_count": null,
      "outputs": [
        {
          "output_type": "display_data",
          "data": {
            "image/png": "[encoded data removed]",
            "text/plain": [
              "<Figure size 432x288 with 1 Axes>"
            ]
          },
          "metadata": {
            "needs_background": "light"
          }
        }
      ]
    },
    {
      "cell_type": "code",
      "metadata": {
        "colab": {
          "base_uri": "https://localhost:8080/"
        },
        "id": "Z5RMvMYGw4wM",
        "outputId": "81ab8494-88b0-4ede-a317-ded2c25023ce"
      },
      "source": [
        "(null_vals > obs_diff).mean()"
      ],
      "execution_count": null,
      "outputs": [
        {
          "output_type": "execute_result",
          "data": {
            "text/plain": [
              "0.0821"
            ]
          },
          "metadata": {},
          "execution_count": 26
        }
      ]
    }
  ]
}